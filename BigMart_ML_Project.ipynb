{
  "nbformat": 4,
  "nbformat_minor": 0,
  "metadata": {
    "colab": {
      "provenance": [],
      "authorship_tag": "ABX9TyO4SeYf8aa83BpYGZIyqTId",
      "include_colab_link": true
    },
    "kernelspec": {
      "name": "python3",
      "display_name": "Python 3"
    },
    "language_info": {
      "name": "python"
    }
  },
  "cells": [
    {
      "cell_type": "markdown",
      "metadata": {
        "id": "view-in-github",
        "colab_type": "text"
      },
      "source": [
        "<a href=\"https://colab.research.google.com/github/Maryam-Hussein/Technocolabs-Internship-Mini-Project/blob/main/BigMart_ML_Project.ipynb\" target=\"_parent\"><img src=\"https://colab.research.google.com/assets/colab-badge.svg\" alt=\"Open In Colab\"/></a>"
      ]
    },
    {
      "cell_type": "markdown",
      "source": [
        "# **Technocolabs Internship Mini Project**\n",
        "***Maryam Hussein***"
      ],
      "metadata": {
        "id": "2BCre67jK8Mo"
      }
    },
    {
      "cell_type": "code",
      "execution_count": null,
      "metadata": {
        "id": "lpo8PrW9969s"
      },
      "outputs": [],
      "source": [
        "import numpy as np\n",
        "import pandas as pd\n",
        "from matplotlib import pyplot as plt\n",
        "import pandas_profiling"
      ]
    },
    {
      "cell_type": "markdown",
      "source": [
        "# **Loading Data**"
      ],
      "metadata": {
        "id": "l4jM_1dYCMru"
      }
    },
    {
      "cell_type": "code",
      "source": [
        "import os\n",
        "for dirname, _, filenames in os.walk('/input'):\n",
        "    for filename in filenames:\n",
        "        print(os.path.join(dirname, filename))"
      ],
      "metadata": {
        "id": "3_NQJ1kb-tVu"
      },
      "execution_count": null,
      "outputs": []
    },
    {
      "cell_type": "code",
      "source": [
        "df_train = pd.read_csv(\"input/Train.csv\")\n",
        "df_train.head()"
      ],
      "metadata": {
        "id": "0HqZtXTX-4yu"
      },
      "execution_count": null,
      "outputs": []
    },
    {
      "cell_type": "markdown",
      "source": [
        "\n",
        "# **Handling missing value**"
      ],
      "metadata": {
        "id": "NLrppCw2uVLd"
      }
    },
    {
      "cell_type": "code",
      "source": [
        "df_train.isnull().sum()"
      ],
      "metadata": {
        "id": "_gYeJZZz_nCs"
      },
      "execution_count": null,
      "outputs": []
    },
    {
      "cell_type": "markdown",
      "source": [
        "# **Handling Duplicate records**"
      ],
      "metadata": {
        "id": "gEhOlJnk0yMV"
      }
    },
    {
      "cell_type": "code",
      "source": [
        "df_train['Item_Weight']=df_train['Item_Weight'].fillna(df_train['Item_Weight'].mean())\n",
        "df_train['Outlet_Size']=df_train['Outlet_Size'].fillna(df_train['Outlet_Size'].mode()[0])\n",
        "\n",
        "import seaborn as sns\n",
        "sns.heatmap(df_train.isnull(),yticklabels=False,cbar=False,cmap='coolwarm')"
      ],
      "metadata": {
        "id": "Z4sudxD8AZkg"
      },
      "execution_count": null,
      "outputs": []
    },
    {
      "cell_type": "code",
      "source": [
        "df_train.describe(include = 'all')"
      ],
      "metadata": {
        "id": "YUM5nF1sAt4g"
      },
      "execution_count": null,
      "outputs": []
    },
    {
      "cell_type": "markdown",
      "source": [
        "# **Exploratory Data Analysis(EDA)**"
      ],
      "metadata": {
        "id": "gxFUsIwq0fdL"
      }
    },
    {
      "cell_type": "code",
      "source": [
        "df_train.info()"
      ],
      "metadata": {
        "id": "bZ7vQ14gAvYm"
      },
      "execution_count": null,
      "outputs": []
    },
    {
      "cell_type": "markdown",
      "source": [
        "# **Handling Outlier - Histogram**"
      ],
      "metadata": {
        "id": "m8hLP6fvy-Gt"
      }
    },
    {
      "cell_type": "code",
      "source": [
        "df_train['Outlet_Identifier'].value_counts().plot(kind='bar',color = 'Cyan')"
      ],
      "metadata": {
        "id": "v2C7IZTMA3Ig"
      },
      "execution_count": null,
      "outputs": []
    },
    {
      "cell_type": "code",
      "source": [
        "df_train = df_train.drop(['Item_Identifier','Outlet_Identifier'],axis=1)\n",
        "df_train.head()"
      ],
      "metadata": {
        "id": "ZHC7X1crA832"
      },
      "execution_count": null,
      "outputs": []
    },
    {
      "cell_type": "markdown",
      "source": [
        "# **Univariate Data Visualizations**"
      ],
      "metadata": {
        "id": "L5K1yjcvCIVf"
      }
    },
    {
      "cell_type": "code",
      "source": [
        "df_train['Item_Fat_Content'].value_counts().plot(kind='bar',color = 'black')"
      ],
      "metadata": {
        "id": "j_SpRLCeBMLO"
      },
      "execution_count": null,
      "outputs": []
    },
    {
      "cell_type": "code",
      "source": [
        "df_train =  df_train.replace(to_replace =\"low fat\",  value =\"Low Fat\") \n",
        "df_train =  df_train.replace(to_replace =\"LF\",  value =\"Low Fat\") \n",
        "df_train =  df_train.replace(to_replace =\"reg\",  value =\"Regular\") \n",
        "\n",
        "df_train['Item_Fat_Content'].value_counts().plot(kind='bar',color = 'red')"
      ],
      "metadata": {
        "id": "TrmU48DH24Mr"
      },
      "execution_count": null,
      "outputs": []
    },
    {
      "cell_type": "code",
      "source": [
        "df_train['Item_Type'].value_counts().plot(kind='bar',color = 'gray')"
      ],
      "metadata": {
        "id": "zigWkjqXBT-e"
      },
      "execution_count": null,
      "outputs": []
    },
    {
      "cell_type": "code",
      "source": [
        "df_train['Outlet_Size'].value_counts().plot(kind='bar',color = 'blue')"
      ],
      "metadata": {
        "id": "u5Iv9s9RBW1m"
      },
      "execution_count": null,
      "outputs": []
    },
    {
      "cell_type": "code",
      "source": [
        "df_train['Outlet_Location_Type'].value_counts().plot(kind='bar',color = 'cyan')"
      ],
      "metadata": {
        "id": "sKXgmTdsBZx_"
      },
      "execution_count": null,
      "outputs": []
    },
    {
      "cell_type": "code",
      "source": [
        "df_train['Outlet_Type'].value_counts().plot(kind='bar',color = 'pink')"
      ],
      "metadata": {
        "id": "Xxkd7BIlBcM3"
      },
      "execution_count": null,
      "outputs": []
    },
    {
      "cell_type": "code",
      "source": [
        "y = df_train['Item_Weight']\n",
        "plt.figure(1); \n",
        "sns.distplot(y, kde=True,color = 'orange')"
      ],
      "metadata": {
        "id": "Zmu4huYvBe_X"
      },
      "execution_count": null,
      "outputs": []
    },
    {
      "cell_type": "code",
      "source": [
        "y = df_train['Item_Visibility']\n",
        "plt.figure(1); \n",
        "sns.distplot(y, kde=True,color = 'green')"
      ],
      "metadata": {
        "id": "LPQplxv9BxTv"
      },
      "execution_count": null,
      "outputs": []
    },
    {
      "cell_type": "code",
      "source": [
        "y = df_train['Item_MRP']\n",
        "plt.figure(1);\n",
        "sns.distplot(y, kde=True,color = 'brown')"
      ],
      "metadata": {
        "id": "P3kwhlXbCxWW"
      },
      "execution_count": null,
      "outputs": []
    },
    {
      "cell_type": "code",
      "source": [
        "y = df_train['Outlet_Establishment_Year']\n",
        "plt.figure(1); \n",
        "sns.distplot(y, kde=True,color = 'purple')"
      ],
      "metadata": {
        "id": "Hqayk__yDVrp"
      },
      "execution_count": null,
      "outputs": []
    },
    {
      "cell_type": "code",
      "source": [
        "y = df_train['Item_Outlet_Sales']\n",
        "plt.figure(1);\n",
        "sns.distplot(y, kde=True,color = 'yellow')"
      ],
      "metadata": {
        "id": "KIwbmJrKDjQP"
      },
      "execution_count": null,
      "outputs": []
    },
    {
      "cell_type": "code",
      "source": [
        "df_train[\"Qty_Sold\"] = (df_train[\"Item_Outlet_Sales\"]/df_train[\"Item_MRP\"])\n",
        "df_train.head()"
      ],
      "metadata": {
        "id": "_LFX4wenDuRY"
      },
      "execution_count": null,
      "outputs": []
    },
    {
      "cell_type": "markdown",
      "source": [
        "# **Multicollinearity**"
      ],
      "metadata": {
        "id": "s0jc3yfe8eka"
      }
    },
    {
      "cell_type": "code",
      "source": [
        "import matplotlib.pyplot as plt\n",
        "plt.figure(figsize=(10,7))\n",
        "sns.heatmap(df_train.corr(),annot=True)"
      ],
      "metadata": {
        "id": "ShEad8RhEAaR"
      },
      "execution_count": null,
      "outputs": []
    },
    {
      "cell_type": "markdown",
      "source": [
        "# **Feature Engineering**"
      ],
      "metadata": {
        "id": "_INtorzd5Q-B"
      }
    },
    {
      "cell_type": "code",
      "source": [
        "categorical_columns=[x for x in df_train.dtypes.index if df_train.dtypes[x]=='object']\n",
        "categorical_columns\n",
        "\n",
        "df_train.pivot_table(index='Outlet_Type',values='Item_Outlet_Sales')"
      ],
      "metadata": {
        "id": "lC2LresMESa3"
      },
      "execution_count": null,
      "outputs": []
    },
    {
      "cell_type": "code",
      "source": [
        "#print frequencies of categories\n",
        "for col in categorical_columns:\n",
        "    print('Frequency of categories for variable')\n",
        "    print(df_train[col].value_counts())\n",
        "    print(\"\\n\")"
      ],
      "metadata": {
        "id": "ANGlIDQbEXGJ"
      },
      "execution_count": null,
      "outputs": []
    },
    {
      "cell_type": "markdown",
      "source": [
        "# **Categorical encoding**"
      ],
      "metadata": {
        "id": "PDXs4nsQ5kcu"
      }
    },
    {
      "cell_type": "code",
      "source": [
        "from sklearn.preprocessing import LabelEncoder\n",
        "labelencoder=LabelEncoder()\n",
        "for col in df_train.columns:\n",
        "    df_train[col] = labelencoder.fit_transform(df_train[col])\n",
        "    \n",
        "df_train=pd.get_dummies(df_train, columns=['Item_Fat_Content','Item_Type','Outlet_Size','Outlet_Location_Type','Outlet_Type'],drop_first=False)\n",
        "\n",
        "print(df_train.shape)"
      ],
      "metadata": {
        "id": "u7rAtVE-Eam2"
      },
      "execution_count": null,
      "outputs": []
    },
    {
      "cell_type": "code",
      "source": [
        "df_train.columns"
      ],
      "metadata": {
        "id": "jaqggeuUEhhX"
      },
      "execution_count": null,
      "outputs": []
    },
    {
      "cell_type": "code",
      "source": [
        "df = df_train[['Item_Weight', 'Item_Visibility', 'Item_MRP',\n",
        "       'Outlet_Establishment_Year',\n",
        "       'Item_Fat_Content_0', 'Item_Fat_Content_1', 'Item_Type_0',\n",
        "       'Item_Type_1', 'Item_Type_2', 'Item_Type_3', 'Item_Type_4',\n",
        "       'Item_Type_5', 'Item_Type_6', 'Item_Type_7', 'Item_Type_8',\n",
        "       'Item_Type_9', 'Item_Type_10', 'Item_Type_11', 'Item_Type_12',\n",
        "       'Item_Type_13', 'Item_Type_14', 'Item_Type_15', 'Outlet_Size_0',\n",
        "       'Outlet_Size_1', 'Outlet_Size_2', 'Outlet_Location_Type_0',\n",
        "       'Outlet_Location_Type_1', 'Outlet_Location_Type_2', 'Outlet_Type_0',\n",
        "       'Outlet_Type_1', 'Outlet_Type_2', 'Outlet_Type_3', 'Item_Outlet_Sales', 'Qty_Sold']]\n",
        "df.head()"
      ],
      "metadata": {
        "id": "rntgaywrEj5X"
      },
      "execution_count": null,
      "outputs": []
    },
    {
      "cell_type": "code",
      "source": [
        "df.shape"
      ],
      "metadata": {
        "id": "5daKorTmEmin"
      },
      "execution_count": null,
      "outputs": []
    },
    {
      "cell_type": "code",
      "source": [
        "# iterating the columns \n",
        "for col in df.columns: \n",
        "    print(col)"
      ],
      "metadata": {
        "id": "IICbAiw7Er4d"
      },
      "execution_count": null,
      "outputs": []
    },
    {
      "cell_type": "code",
      "source": [
        "#Separating features and label\n",
        "X = df.iloc[:,0:33].values\n",
        "y = df.iloc[:,-1].values\n",
        "\n",
        "from sklearn.model_selection import train_test_split\n",
        "X_train, X_test, y_train, y_test = train_test_split(X,y,test_size=0.2,random_state=4)\n",
        "\n",
        "# Applying PCA\n",
        "from sklearn.decomposition import PCA\n",
        "pca = PCA(n_components = None)\n",
        "X_train = pca.fit_transform(X_train)\n",
        "X_test = pca.transform(X_test)\n",
        "explained_variance = pca.explained_variance_ratio_\n",
        "\n",
        "print(explained_variance)"
      ],
      "metadata": {
        "id": "8Xr_URVAFJtY"
      },
      "execution_count": null,
      "outputs": []
    },
    {
      "cell_type": "code",
      "source": [
        "len(explained_variance)"
      ],
      "metadata": {
        "id": "SJASdDVnFRbQ"
      },
      "execution_count": null,
      "outputs": []
    },
    {
      "cell_type": "markdown",
      "source": [
        "# **Preprocessing**"
      ],
      "metadata": {
        "id": "1aqvmvVP600I"
      }
    },
    {
      "cell_type": "code",
      "source": [
        "print(\"Sorted List returned: \")\n",
        "print(sorted(explained_variance,reverse = True))"
      ],
      "metadata": {
        "id": "UvVsjoTDFTN4"
      },
      "execution_count": null,
      "outputs": []
    },
    {
      "cell_type": "code",
      "source": [
        "with plt.style.context('dark_background'):\n",
        "    plt.figure(figsize=(16, 8))\n",
        "    \n",
        "    plt.bar(range(33), explained_variance, alpha=0.5, align='center',label='individual explained variance')\n",
        "    plt.ylabel('Explained variance ratio')\n",
        "    plt.xlabel('Principal components')\n",
        "    plt.legend(loc='best')\n",
        "    plt.tight_layout()"
      ],
      "metadata": {
        "id": "TApXTt77FV6W"
      },
      "execution_count": null,
      "outputs": []
    },
    {
      "cell_type": "code",
      "source": [
        "# Applying PCA\n",
        "from sklearn.decomposition import PCA\n",
        "pca = PCA(n_components = 3)\n",
        "X_train = pca.fit_transform(X_train)\n",
        "X_test = pca.transform(X_test)\n",
        "explained_variance = pca.explained_variance_ratio_\n",
        "print(explained_variance)"
      ],
      "metadata": {
        "id": "ni48Qh8pFo-V"
      },
      "execution_count": null,
      "outputs": []
    },
    {
      "cell_type": "code",
      "source": [
        "#Model comparison\n",
        "from sklearn.linear_model import LinearRegression\n",
        "from sklearn.ensemble import RandomForestRegressor\n",
        "from sklearn.tree import DecisionTreeRegressor\n",
        "from sklearn.model_selection import cross_val_predict\n",
        "from sklearn.model_selection import cross_val_score\n",
        "from sklearn.model_selection import cross_validate\n",
        "from sklearn.ensemble import AdaBoostRegressor,BaggingRegressor,ExtraTreesRegressor,GradientBoostingRegressor\n",
        "#Fit Decision_tree\n",
        "lin_reg = LinearRegression()\n",
        "lin_reg.fit(X_train, y_train)"
      ],
      "metadata": {
        "id": "U4ysTrjIF88P"
      },
      "execution_count": null,
      "outputs": []
    },
    {
      "cell_type": "code",
      "source": [
        "#Fit Decision_tree\n",
        "tree = DecisionTreeRegressor()\n",
        "tree.fit(X_train, y_train)"
      ],
      "metadata": {
        "id": "ZNC6w7cxGJbg"
      },
      "execution_count": null,
      "outputs": []
    },
    {
      "cell_type": "code",
      "source": [
        "#Fit Random_forest\n",
        "forest = RandomForestRegressor(n_jobs=-1)\n",
        "forest.fit(X_train, y_train)"
      ],
      "metadata": {
        "id": "NOOnJc1hGLKa"
      },
      "execution_count": null,
      "outputs": []
    },
    {
      "cell_type": "code",
      "source": [
        "#Fit Ada_Boost_Regressor\n",
        "Ada_boost = AdaBoostRegressor()\n",
        "Ada_boost.fit(X_train, y_train)"
      ],
      "metadata": {
        "id": "n7bKVCb6GNOz"
      },
      "execution_count": null,
      "outputs": []
    },
    {
      "cell_type": "code",
      "source": [
        "#Fit Bagging_Regressor..........\n",
        "Bagging = BaggingRegressor()\n",
        "Bagging.fit(X_train, y_train)"
      ],
      "metadata": {
        "id": "Y352mH2eGPg_"
      },
      "execution_count": null,
      "outputs": []
    },
    {
      "cell_type": "code",
      "source": [
        "#Fit Extra_tree_regressor........\n",
        "Extra_trees = ExtraTreesRegressor()\n",
        "Extra_trees.fit(X_train, y_train)"
      ],
      "metadata": {
        "id": "p1XmwwRWGVTA"
      },
      "execution_count": null,
      "outputs": []
    },
    {
      "cell_type": "code",
      "source": [
        "#Fit Gradient_Boosting_Regressor\n",
        "Gradient_boosting = GradientBoostingRegressor()\n",
        "Gradient_boosting.fit(X_train, y_train)"
      ],
      "metadata": {
        "id": "XpiRLWl5GXwU"
      },
      "execution_count": null,
      "outputs": []
    },
    {
      "cell_type": "code",
      "source": [
        "models= [('lin_reg', lin_reg), ('forest', forest), ('dt', tree),('Ada_boost',Ada_boost),('Bagging',Bagging),('Extra_trees',Extra_trees),('Gradient_boosting',Gradient_boosting)]\n",
        "scoring = ['neg_mean_squared_error', 'neg_mean_absolute_error', 'r2']\n",
        "\n",
        "\n",
        "#for each model I want to test three different scoring metrics. Therefore, results[0] will be lin_reg x MSE, \n",
        "# results[1] lin_reg x MSE and so on until results [8], where we stored dt x r2\n",
        "\n",
        "results= []\n",
        "metric= []\n",
        "for name, model in models:\n",
        "    for i in scoring:\n",
        "        scores = cross_validate(model, X_train, y_train, scoring=i, cv=10, return_train_score=True)\n",
        "        results.append(scores)\n",
        "\n",
        "print(results[20])"
      ],
      "metadata": {
        "id": "fAIrXxOOHX4E"
      },
      "execution_count": null,
      "outputs": []
    },
    {
      "cell_type": "code",
      "source": [
        "#if you change signa and square the Mean Square Error you get the RMSE, which is the most common metric to accuracy\n",
        "LR_RMSE_mean = np.sqrt(-results[0]['test_score'].mean())\n",
        "LR_RMSE_std= results[0]['test_score'].std()\n",
        "# note that also here I changed the sign, as the result is originally a negative number for ease of computation\n",
        "LR_MAE_mean = -results[1]['test_score'].mean()\n",
        "LR_MAE_std= results[1]['test_score'].std()\n",
        "LR_r2_mean = results[2]['test_score'].mean()\n",
        "LR_r2_std = results[2]['test_score'].std()\n",
        "\n",
        "#THIS IS FOR RF\n",
        "RF_RMSE_mean = np.sqrt(-results[3]['test_score'].mean())\n",
        "RF_RMSE_std= results[3]['test_score'].std()\n",
        "RF_MAE_mean = -results[4]['test_score'].mean()\n",
        "RF_MAE_std= results[4]['test_score'].std()\n",
        "RF_r2_mean = results[5]['test_score'].mean()\n",
        "RF_r2_std = results[5]['test_score'].std()\n",
        "\n",
        "#THIS IS FOR DT\n",
        "DT_RMSE_mean = np.sqrt(-results[6]['test_score'].mean())\n",
        "DT_RMSE_std= results[6]['test_score'].std()\n",
        "DT_MAE_mean = -results[7]['test_score'].mean()\n",
        "DT_MAE_std= results[7]['test_score'].std()\n",
        "DT_r2_mean = results[8]['test_score'].mean()\n",
        "DT_r2_std = results[8]['test_score'].std()\n",
        "\n",
        "\n",
        "\n",
        "\n",
        "#if you change signa and square the Mean Square Error you get the RMSE, which is the most common metric to accuracy\n",
        "ADA_RMSE_mean = np.sqrt(-results[9]['test_score'].mean())\n",
        "ADA_RMSE_std= results[9]['test_score'].std()\n",
        "# note that also here I changed the sign, as the result is originally a negative number for ease of computation\n",
        "ADA_MAE_mean = -results[10]['test_score'].mean()\n",
        "ADA_MAE_std= results[10]['test_score'].std()\n",
        "ADA_r2_mean = results[11]['test_score'].mean()\n",
        "ADA_r2_std = results[11]['test_score'].std()\n",
        "\n",
        "\n",
        "\n",
        "#if you change signa and square the Mean Square Error you get the RMSE, which is the most common metric to accuracy\n",
        "BAGGING_RMSE_mean = np.sqrt(-results[12]['test_score'].mean())\n",
        "BAGGING_RMSE_std= results[12]['test_score'].std()\n",
        "# note that also here I changed the sign, as the result is originally a negative number for ease of computation\n",
        "BAGGING_MAE_mean = -results[13]['test_score'].mean()\n",
        "BAGGING_MAE_std= results[13]['test_score'].std()\n",
        "BAGGING_r2_mean = results[14]['test_score'].mean()\n",
        "BAGGING_r2_std = results[14]['test_score'].std()\n",
        "\n",
        "\n",
        "#if you change signa and square the Mean Square Error you get the RMSE, which is the most common metric to accuracy\n",
        "ET_RMSE_mean = np.sqrt(-results[15]['test_score'].mean())\n",
        "ET_RMSE_std= results[15]['test_score'].std()\n",
        "# note that also here I changed the sign, as the result is originally a negative number for ease of computation\n",
        "ET_MAE_mean = -results[16]['test_score'].mean()\n",
        "ET_MAE_std= results[16]['test_score'].std()\n",
        "ET_r2_mean = results[17]['test_score'].mean()\n",
        "ET_r2_std = results[17]['test_score'].std()\n",
        "\n",
        "\n",
        "#if you change signa and square the Mean Square Error you get the RMSE, which is the most common metric to accuracy\n",
        "GB_RMSE_mean = np.sqrt(-results[18]['test_score'].mean())\n",
        "GB_RMSE_std= results[18]['test_score'].std()\n",
        "# note that also here I changed the sign, as the result is originally a negative number for ease of computation\n",
        "GB_MAE_mean = -results[19]['test_score'].mean()\n",
        "GB_MAE_std= results[19]['test_score'].std()\n",
        "GB_r2_mean = results[20]['test_score'].mean()\n",
        "GB_r2_std = results[20]['test_score'].std()\n",
        "modelDF = pd.DataFrame({\n",
        "    'Model'       : ['Linear Regression', 'Random Forest', 'Decision Trees','Ada Boosting','Bagging','Extra trees','Gradient Boosting'],\n",
        "    'RMSE_mean'    : [LR_RMSE_mean, RF_RMSE_mean, DT_RMSE_mean,ADA_RMSE_mean,BAGGING_RMSE_mean,ET_RMSE_mean,GB_RMSE_mean],\n",
        "    'RMSE_std'    : [LR_RMSE_std, RF_RMSE_std, DT_RMSE_std,ADA_RMSE_std,BAGGING_RMSE_std,ET_RMSE_std,GB_RMSE_std],\n",
        "    'MAE_mean'   : [LR_MAE_mean, RF_MAE_mean, DT_MAE_mean,ADA_MAE_mean,BAGGING_MAE_mean,ET_MAE_mean,GB_MAE_mean],\n",
        "    'MAE_std'   : [LR_MAE_std, RF_MAE_std, DT_MAE_std, ADA_MAE_std, BAGGING_MAE_std, ET_MAE_std, GB_MAE_std],\n",
        "    'r2_mean'      : [LR_r2_mean, RF_r2_mean, DT_r2_mean, ADA_r2_mean,BAGGING_r2_mean, ET_r2_mean, GB_r2_mean],\n",
        "    'r2_std'      : [LR_r2_std, RF_r2_std, DT_r2_std, ADA_r2_std,BAGGING_r2_std, ET_r2_std, GB_r2_std],\n",
        "    }, columns = ['Model', 'RMSE_mean', 'RMSE_std', 'MAE_mean', 'MAE_std', 'r2_mean', 'r2_std'])\n",
        "\n",
        "    \n",
        "modelDF.sort_values(by='r2_mean', ascending=False)"
      ],
      "metadata": {
        "id": "nZl1ooSzHkUJ"
      },
      "execution_count": null,
      "outputs": []
    },
    {
      "cell_type": "code",
      "source": [
        "from sklearn.model_selection import GridSearchCV,StratifiedKFold\n",
        "\n",
        "ETC = ExtraTreesRegressor()\n",
        "gb_param_grid = {'n_estimators' : [100,200,300,400,500],\n",
        "              'max_depth': [4, 8,12,16],\n",
        "              'min_samples_leaf' : [100,150,200,250],\n",
        "              'max_features' : [0.3, 0.1] \n",
        "              }\n",
        "\n",
        "gsETC = GridSearchCV(ETC,param_grid = gb_param_grid, cv=10, n_jobs= -1, verbose = 0)\n",
        "\n",
        "gsETC.fit(X_train,y_train)"
      ],
      "metadata": {
        "id": "ltGfxFkYIJKA"
      },
      "execution_count": null,
      "outputs": []
    },
    {
      "cell_type": "code",
      "source": [
        "ETC = ExtraTreesRegressor(max_depth= 8,max_features = 0.3,min_samples_leaf =  100,n_estimators= 500)\n",
        "ETC.fit(X_train, y_train)\n",
        "\n",
        "\n",
        "#predicting the test set\n",
        "y_pred = ETC.predict(X_test)\n",
        "from sklearn import metrics\n",
        "print(\"MAE:\", metrics.mean_absolute_error(y_test, y_pred))\n",
        "print('MSE:', metrics.mean_squared_error(y_test, y_pred))\n",
        "print('RMSE:', np.sqrt(metrics.mean_squared_error(y_test, y_pred)))"
      ],
      "metadata": {
        "id": "RUeumNLVKcQZ"
      },
      "execution_count": null,
      "outputs": []
    }
  ]
}